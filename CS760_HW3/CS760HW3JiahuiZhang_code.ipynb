{
 "cells": [
  {
   "attachments": {},
   "cell_type": "markdown",
   "metadata": {},
   "source": [
    "# CS760 HW3 CODE\n",
    "**Author: Jiahui Zhang**"
   ]
  },
  {
   "cell_type": "code",
   "execution_count": null,
   "metadata": {},
   "outputs": [],
   "source": [
    "import numpy as np\n",
    "import matplotlib.pyplot as plt\n",
    "from collections import Counter\n",
    "from tqdm import tqdm\n",
    "from sklearn.neighbors import KNeighborsClassifier\n",
    "from sklearn.metrics import roc_curve\n",
    "from sklearn.metrics import auc\n",
    "\n",
    "root = 'D:\\\\LIFE\\\\WORK\\\\5-Doctorate\\\\Coursework\\\\CS 760\\\\hw_CS760_Jiahui Zhang\\\\CS760_HW3\\\\'"
   ]
  },
  {
   "cell_type": "code",
   "execution_count": null,
   "metadata": {},
   "outputs": [],
   "source": [
    "# read in D2z.txt\n",
    "def read_dat(path):\n",
    "    y = []\n",
    "    x = []\n",
    "    with open(path,'r') as f:\n",
    "        for line in f:\n",
    "            line = line.replace('\\n','').split(' ')\n",
    "            x1, x2, current_y = float(line[0]), float(line[1]), int(line[2])\n",
    "            assert current_y in [0,1]\n",
    "            x.append([x1,x2])\n",
    "            y.append(current_y)\n",
    "    y = np.array(y)\n",
    "    x = np.array(x)\n",
    "    return x,y\n",
    "\n",
    "# calculate euclidean distance\n",
    "def cal_distance(dp1,dp2):\n",
    "    p = len(dp1)\n",
    "    res = 0\n",
    "    for pp in range(p):\n",
    "        res += (dp1[pp]-dp2[pp]) ** 2\n",
    "    res = np.sqrt(res)\n",
    "    return res\n",
    "\n",
    "# KNN for predicting single test point x\n",
    "def knn(k,train_x,train_y,indiv_test_x):\n",
    "    dist_list = []\n",
    "    for tx in train_x:\n",
    "        dist_list.append(cal_distance(indiv_test_x,tx))\n",
    "    dist_list = np.array(dist_list)\n",
    "    sorted_index = np.argsort(dist_list)\n",
    "    candidate_y_list = train_y[sorted_index[:k]]\n",
    "    ctr = Counter(candidate_y_list)\n",
    "    if len(ctr) == 1:\n",
    "        return list(ctr.keys())[0]\n",
    "    if ctr[0] > ctr[1]:\n",
    "        return 0\n",
    "    elif ctr[1] > ctr[0]:\n",
    "        return 1\n",
    "    else:\n",
    "        return int(np.random.choice([0,1],1))\n",
    "\n"
   ]
  },
  {
   "cell_type": "code",
   "execution_count": null,
   "metadata": {},
   "outputs": [],
   "source": [
    "x,y = read_dat(path=root+'data\\\\D2z.txt')\n",
    "\n",
    "plt.figure()\n",
    "x1_list_red = []\n",
    "x2_list_red = []\n",
    "x1_list_blue = []\n",
    "x2_list_blue = []\n",
    "for x1 in np.linspace(-2,2,41):\n",
    "    for x2 in np.linspace(-2,2,41):\n",
    "        test_x = [x1,x2]\n",
    "        pred_y = knn(1,x,y,test_x)\n",
    "        if pred_y == 1:\n",
    "            x1_list_red.append(x1)\n",
    "            x2_list_red.append(x2)\n",
    "        else:\n",
    "            x1_list_blue.append(x1)\n",
    "            x2_list_blue.append(x2)\n",
    "plt.scatter(x1_list_red,x2_list_red,c='salmon',s=10)\n",
    "plt.scatter(x1_list_blue,x2_list_blue,c='lightblue',s=10)\n",
    "indices_pos = [i for i in range(len(y)) if y[i] == 1]\n",
    "indices_neg = [i for i in range(len(y)) if y[i] == 0]\n",
    "plt.scatter(x[indices_pos,0],x[indices_pos,1],c='black',marker='+')\n",
    "plt.scatter(x[indices_neg,0],x[indices_neg,1],marker='o',facecolors='none',edgecolors='black')\n",
    "plt.show()\n"
   ]
  },
  {
   "cell_type": "code",
   "execution_count": null,
   "metadata": {},
   "outputs": [],
   "source": [
    "# read in emails.csv\n",
    "def read_email(path):\n",
    "    y = []\n",
    "    x = []\n",
    "    with open(path,'r') as f:\n",
    "        for line in f:\n",
    "            if 'Prediction' in line:\n",
    "                continue\n",
    "            line = line.replace('\\n','').split(',')[1:]\n",
    "            current_y = int(line[-1])\n",
    "            line = line[:-1]\n",
    "            current_x = []\n",
    "            for item in line:\n",
    "                current_x.append(int(item))\n",
    "            assert current_y in [0,1]\n",
    "            x.append(current_x)\n",
    "            y.append(current_y)\n",
    "    y = np.array(y)\n",
    "    x = np.array(x)\n",
    "    return x,y"
   ]
  },
  {
   "cell_type": "code",
   "execution_count": null,
   "metadata": {},
   "outputs": [],
   "source": [
    "x,y = read_email(path=root+'data\\\\emails.csv')\n",
    "# data standardization\n",
    "x = (x-x.mean(0))/x.std(0)"
   ]
  },
  {
   "cell_type": "code",
   "execution_count": null,
   "metadata": {},
   "outputs": [],
   "source": [
    "def sigmoid_func(z):\n",
    "    if z <= -100:\n",
    "        return 0\n",
    "    return 1/(1+np.exp(-z))\n",
    "\n",
    "def logistic_train(x,y,eta):\n",
    "    p = len(x[0,:])\n",
    "    n = len(x[:,0])\n",
    "    assert n == len(y)\n",
    "    theta = np.random.randn(p)/100\n",
    "    while(1):\n",
    "        old_theta = theta\n",
    "        for index in range(n):\n",
    "            #rand_index = np.random.choice(list(range(n)),1)\n",
    "            rand_x, rand_y = x[index,:], y[index]\n",
    "            current_pred_y = sigmoid_func(theta.dot(rand_x))\n",
    "            theta = theta - eta * rand_x * (current_pred_y - rand_y)\n",
    "        if sum(abs(old_theta-theta)) <= 0.1:\n",
    "            break\n",
    "    return theta\n",
    "\n",
    "def logistic_test(x,theta,threshold=0.5):\n",
    "    pred_y = sigmoid_func(theta.dot(x))\n",
    "    if pred_y >= threshold:\n",
    "        return 1\n",
    "    else:\n",
    "        return 0\n",
    "\n",
    "def logistic_prob(x,theta):\n",
    "    pred_y = sigmoid_func(theta.dot(x))\n",
    "    return pred_y\n"
   ]
  },
  {
   "cell_type": "code",
   "execution_count": null,
   "metadata": {},
   "outputs": [],
   "source": [
    "def onefold_analysis(index_test,sample_amount,method,n_neighbors=-1,threshold=0.5):\n",
    "    index_train = [i for i in range(sample_amount) if i not in index_test]\n",
    "    train_x = x[index_train,:]\n",
    "    train_y = y[index_train]\n",
    "    true_y = y[index_test]\n",
    "    pred_y = []\n",
    "    if method == 'logistic':\n",
    "        theta = logistic_train(train_x,train_y,eta=0.1)\n",
    "    elif method == 'NN':\n",
    "        neigh = KNeighborsClassifier(n_neighbors)\n",
    "        neigh.fit(train_x,train_y)\n",
    "    for indiv_test_x in tqdm(x[index_test,:]):\n",
    "        if method == 'NN':\n",
    "            current_pred_y = neigh.predict([indiv_test_x])\n",
    "        elif method == 'logistic':\n",
    "            current_pred_y = logistic_test(indiv_test_x,theta,threshold)\n",
    "        pred_y.append(current_pred_y)\n",
    "    TP = len([i for i in range(len(true_y)) if true_y[i] == 1 and pred_y[i] == 1])\n",
    "    FP = len([i for i in range(len(true_y)) if true_y[i] == 0 and pred_y[i] == 1])\n",
    "    FN = len([i for i in range(len(true_y)) if true_y[i] == 1 and pred_y[i] == 0])\n",
    "    TN = len([i for i in range(len(true_y)) if true_y[i] == 0 and pred_y[i] == 0])\n",
    "    TOTAL = len(true_y)\n",
    "    print(\"ACC: %.4f\" % ((TP+TN)/TOTAL))\n",
    "    print(\"Precision: %.4f\" % (TP/(TP+FP)))\n",
    "    print(\"Recal: %.4f\" % (TP/(TP+FN)))\n",
    "    return (TP+TN)/TOTAL\n",
    "\n"
   ]
  },
  {
   "cell_type": "code",
   "execution_count": null,
   "metadata": {},
   "outputs": [],
   "source": [
    "np.random.seed(5)\n",
    "for k in [1,3,5,7,10]:\n",
    "    acc_list = []\n",
    "    acc_list.append(onefold_analysis(list(range(1000)),5000,'NN',k))\n",
    "    acc_list.append(onefold_analysis(list(range(1000,2000)),5000,'NN',k))\n",
    "    acc_list.append(onefold_analysis(list(range(2000,3000)),5000,'NN',k))\n",
    "    acc_list.append(onefold_analysis(list(range(3000,4000)),5000,'NN',k))\n",
    "    acc_list.append(onefold_analysis(list(range(4000,5000)),5000,'NN',k))\n",
    "    print(\"K=%d, AVG ACC=%.4f\" % (k,np.mean(acc_list)))"
   ]
  },
  {
   "cell_type": "code",
   "execution_count": null,
   "metadata": {},
   "outputs": [],
   "source": [
    "np.random.seed(5)\n",
    "_ = onefold_analysis(list(range(1000)),5000,'logistic')\n",
    "_ = onefold_analysis(list(range(1000,2000)),5000,'logistic')\n",
    "_ = onefold_analysis(list(range(2000,3000)),5000,'logistic')\n",
    "_ = onefold_analysis(list(range(3000,4000)),5000,'logistic')\n",
    "_ = onefold_analysis(list(range(4000,5000)),5000,'logistic')"
   ]
  },
  {
   "cell_type": "code",
   "execution_count": null,
   "metadata": {},
   "outputs": [],
   "source": [
    "plt.figure()\n",
    "ks = [1,3,5,7,10]\n",
    "accs = [0.8492,0.8216,0.8040,0.7796,0.7584]\n",
    "plt.plot(ks,accs)\n",
    "plt.title('kNN Five-fold Cross Validation')\n",
    "plt.ylabel('Average Accuracy')\n",
    "plt.xlabel('k')\n",
    "plt.show()"
   ]
  },
  {
   "cell_type": "code",
   "execution_count": 114,
   "metadata": {},
   "outputs": [],
   "source": [
    "def onefold_analysis_roc(index_test,sample_amount,method,n_neighbors=-1):\n",
    "    index_train = [i for i in range(sample_amount) if i not in index_test]\n",
    "    train_x = x[index_train,:]\n",
    "    train_y = y[index_train]\n",
    "    pred_y = []\n",
    "    if method == 'logistic':\n",
    "        theta = logistic_train(train_x,train_y,eta=0.1)\n",
    "    elif method == 'NN':\n",
    "        neigh = KNeighborsClassifier(n_neighbors)\n",
    "        neigh.fit(train_x,train_y)\n",
    "    for indiv_test_x in tqdm(x[index_test,:]):\n",
    "        if method == 'NN':\n",
    "            current_pred_y = neigh.predict_proba([indiv_test_x])\n",
    "            pred_y.append(current_pred_y[0,1])\n",
    "        elif method == 'logistic':\n",
    "            current_pred_y = logistic_prob(indiv_test_x,theta)\n",
    "            pred_y.append(current_pred_y)\n",
    "    return pred_y"
   ]
  },
  {
   "cell_type": "code",
   "execution_count": null,
   "metadata": {},
   "outputs": [],
   "source": [
    "np.random.seed(5)\n",
    "index_test = list(range(1000))\n",
    "index_train = [i for i in range(5000) if i not in index_test]\n",
    "train_x = x[index_train,:]\n",
    "train_y = y[index_train]\n",
    "true_y = y[index_test]\n",
    "pred_y = onefold_analysis_roc(index_test,5000,'NN',5)\n"
   ]
  },
  {
   "cell_type": "code",
   "execution_count": 118,
   "metadata": {},
   "outputs": [],
   "source": [
    "fpr_knn, tpr_knn, thres_knn = roc_curve(true_y,pred_y)\n",
    "auc_knn = auc(fpr_knn,tpr_knn)"
   ]
  },
  {
   "cell_type": "code",
   "execution_count": 115,
   "metadata": {},
   "outputs": [
    {
     "name": "stderr",
     "output_type": "stream",
     "text": [
      "100%|██████████| 1000/1000 [00:00<00:00, 166678.75it/s]\n"
     ]
    }
   ],
   "source": [
    "pred_y_logi = onefold_analysis_roc(index_test,5000,'logistic')\n"
   ]
  },
  {
   "cell_type": "code",
   "execution_count": 122,
   "metadata": {},
   "outputs": [
    {
     "data": {
      "image/png": "[encoded data removed]",
      "text/plain": [
       "<Figure size 640x480 with 1 Axes>"
      ]
     },
     "metadata": {},
     "output_type": "display_data"
    }
   ],
   "source": [
    "fpr_logi, tpr_logi, thres_logi = roc_curve(true_y,pred_y_logi)\n",
    "auc_logi = auc(fpr_logi,tpr_logi)\n",
    "\n",
    "plt.figure()\n",
    "plt.plot(fpr_knn,tpr_knn,'b',label='KNeighborsClassifier (AUC=%.2f)' % auc_knn)\n",
    "plt.plot(fpr_logi,tpr_logi,'r',label='LogisticRegression (AUC=%.2f)' % auc_logi)\n",
    "plt.legend(loc='lower right')\n",
    "plt.xlim(0,1)\n",
    "plt.ylim(0,1)\n",
    "plt.xlabel('False Positive Rate')\n",
    "plt.ylabel('True Positive Rate')\n",
    "plt.show()\n"
   ]
  },
  {
   "cell_type": "code",
   "execution_count": null,
   "metadata": {},
   "outputs": [],
   "source": []
  }
 ],
 "metadata": {
  "kernelspec": {
   "display_name": "Python 3",
   "language": "python",
   "name": "python3"
  },
  "language_info": {
   "codemirror_mode": {
    "name": "ipython",
    "version": 3
   },
   "file_extension": ".py",
   "mimetype": "text/x-python",
   "name": "python",
   "nbconvert_exporter": "python",
   "pygments_lexer": "ipython3",
   "version": "3.10.5"
  },
  "orig_nbformat": 4,
  "vscode": {
   "interpreter": {
    "hash": "24a3590b1a2ac319878d2631df49baa7eaec5876ebc99b87b68d4d6c1a503ee3"
   }
  }
 },
 "nbformat": 4,
 "nbformat_minor": 2
}
