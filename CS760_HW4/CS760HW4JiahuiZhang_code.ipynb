{
 "cells": [
  {
   "attachments": {},
   "cell_type": "markdown",
   "metadata": {},
   "source": [
    "# CS760 HW4 CODE\n",
    "**Author: Jiahui Zhang**"
   ]
  },
  {
   "cell_type": "code",
   "execution_count": 53,
   "metadata": {},
   "outputs": [],
   "source": [
    "import numpy as np\n",
    "from copy import deepcopy\n",
    "\n",
    "root = 'D:\\\\LIFE\\\\WORK\\\\5-Doctorate\\\\Coursework\\\\CS 760\\\\hw_CS760_Jiahui Zhang\\\\CS760_HW4\\\\'\n"
   ]
  },
  {
   "attachments": {},
   "cell_type": "markdown",
   "metadata": {},
   "source": [
    "## Naive Bayes"
   ]
  },
  {
   "cell_type": "code",
   "execution_count": 54,
   "metadata": {},
   "outputs": [],
   "source": [
    "# Training using 0~9 samples\n",
    "\n",
    "ALPHA = 1/2\n",
    "VOCAB = 'abcdefghijklmnopqrstuvwxyz '\n",
    "DICT = {}\n",
    "for letter in VOCAB:\n",
    "    DICT[letter] = 0\n",
    "\n",
    "lang_dict = {}\n",
    "lang_est = {}\n",
    "for lang in ['e','j','s']:\n",
    "    lang_dict[lang] = deepcopy(DICT)\n",
    "    lang_est[lang] = deepcopy(DICT)\n",
    "    for i in range(10):\n",
    "        file = root + 'languageID\\\\%s%d.txt' % (lang,i)\n",
    "        with open(file,'r') as f:\n",
    "            for line in f:\n",
    "                line = line.replace('\\n','')\n",
    "                if len(line) == 0:\n",
    "                    continue\n",
    "                line = list(line)\n",
    "                for item in line:\n",
    "                    if item in lang_dict[lang].keys():\n",
    "                        lang_dict[lang][item] += 1\n",
    "    summation = sum(list(lang_dict[lang].values()))\n",
    "    for letter in lang_est[lang].keys():\n",
    "        lang_est[lang][letter] = (lang_dict[lang][letter] + ALPHA)/(summation + ALPHA*27)\n",
    "    #for letter in lang_est[lang].keys():\n",
    "    #    print(\"P(%s|%s): %.2f\\\\%%\" % (letter,lang,lang_est[lang][letter]*100))\n"
   ]
  },
  {
   "cell_type": "code",
   "execution_count": 55,
   "metadata": {},
   "outputs": [
    {
     "name": "stdout",
     "output_type": "stream",
     "text": [
      "{'e': {'a': 164, 'b': 32, 'c': 53, 'd': 57, 'e': 311, 'f': 55, 'g': 51, 'h': 140, 'i': 140, 'j': 3, 'k': 6, 'l': 85, 'm': 64, 'n': 139, 'o': 182, 'p': 53, 'q': 3, 'r': 141, 's': 186, 't': 225, 'u': 65, 'v': 31, 'w': 47, 'x': 4, 'y': 38, 'z': 2, ' ': 498}, 'j': {'a': 186, 'b': 9, 'c': 8, 'd': 19, 'e': 100, 'f': 5, 'g': 24, 'h': 54, 'i': 155, 'j': 4, 'k': 81, 'l': 2, 'm': 68, 'n': 70, 'o': 131, 'p': 0, 'q': 0, 'r': 68, 's': 66, 't': 103, 'u': 106, 'v': 1, 'w': 34, 'x': 0, 'y': 19, 'z': 7, ' ': 181}, 's': {'a': 184, 'b': 22, 'c': 55, 'd': 75, 'e': 195, 'f': 7, 'g': 8, 'h': 7, 'i': 81, 'j': 14, 'k': 1, 'l': 96, 'm': 43, 'n': 87, 'o': 128, 'p': 49, 'q': 15, 'r': 113, 's': 107, 't': 64, 'u': 50, 'v': 13, 'w': 0, 'x': 4, 'y': 4, 'z': 5, ' ': 279}}\n"
     ]
    }
   ],
   "source": [
    "# Testing using sample 10\n",
    "\n",
    "lang_test_vec = {}\n",
    "for lang in ['e','j','s']:\n",
    "    lang_test_vec[lang] = deepcopy(DICT)\n",
    "    file = root + 'languageID\\\\%s%d.txt' % (lang,10)\n",
    "    with open(file,'r') as f:\n",
    "        for line in f:\n",
    "            line = line.replace('\\n','')\n",
    "            if len(line) == 0:\n",
    "                continue\n",
    "            line = list(line)\n",
    "            for item in line:\n",
    "                if item in lang_test_vec[lang].keys():\n",
    "                    lang_test_vec[lang][item] += 1\n",
    "\n",
    "print(lang_test_vec)\n",
    "\n"
   ]
  },
  {
   "cell_type": "code",
   "execution_count": 56,
   "metadata": {},
   "outputs": [
    {
     "name": "stdout",
     "output_type": "stream",
     "text": [
      "Language e log prob: -7841.865447060635\n",
      "Language j log prob: -8771.433079075032\n",
      "Language s log prob: -8467.282044010557\n"
     ]
    }
   ],
   "source": [
    "# Estimated probability\n",
    "\n",
    "for lang in ['e','j','s']:\n",
    "    log_p = 0\n",
    "    for letter in DICT.keys():\n",
    "        log_p += lang_test_vec['e'][letter] * np.log(lang_est[lang][letter])\n",
    "    print(\"Language %s log prob:\"%lang,log_p)\n"
   ]
  },
  {
   "cell_type": "code",
   "execution_count": 57,
   "metadata": {},
   "outputs": [
    {
     "name": "stdout",
     "output_type": "stream",
     "text": [
      "Current sample: e 10  Pred: e\n",
      "Current sample: e 11  Pred: e\n",
      "Current sample: e 12  Pred: e\n",
      "Current sample: e 13  Pred: e\n",
      "Current sample: e 14  Pred: e\n",
      "Current sample: e 15  Pred: e\n",
      "Current sample: e 16  Pred: e\n",
      "Current sample: e 17  Pred: e\n",
      "Current sample: e 18  Pred: e\n",
      "Current sample: e 19  Pred: e\n",
      "Current sample: j 10  Pred: j\n",
      "Current sample: j 11  Pred: j\n",
      "Current sample: j 12  Pred: j\n",
      "Current sample: j 13  Pred: j\n",
      "Current sample: j 14  Pred: j\n",
      "Current sample: j 15  Pred: j\n",
      "Current sample: j 16  Pred: j\n",
      "Current sample: j 17  Pred: j\n",
      "Current sample: j 18  Pred: j\n",
      "Current sample: j 19  Pred: j\n",
      "Current sample: s 10  Pred: s\n",
      "Current sample: s 11  Pred: s\n",
      "Current sample: s 12  Pred: s\n",
      "Current sample: s 13  Pred: s\n",
      "Current sample: s 14  Pred: s\n",
      "Current sample: s 15  Pred: s\n",
      "Current sample: s 16  Pred: s\n",
      "Current sample: s 17  Pred: s\n",
      "Current sample: s 18  Pred: s\n",
      "Current sample: s 19  Pred: s\n"
     ]
    }
   ],
   "source": [
    "# Three language test set\n",
    "\n",
    "mixed_test_vec = {}\n",
    "for lang in ['e','j','s']:\n",
    "    for no in range(10,20):\n",
    "        mixed_test_vec[(lang,no)] = deepcopy(DICT)\n",
    "        file = root + 'languageID\\\\%s%d.txt' % (lang,no)\n",
    "        with open(file,'r') as f:\n",
    "            for line in f:\n",
    "                line = line.replace('\\n','')\n",
    "                if len(line) == 0:\n",
    "                    continue\n",
    "                line = list(line)\n",
    "                for item in line:\n",
    "                    if item in mixed_test_vec[(lang,no)].keys():\n",
    "                        mixed_test_vec[(lang,no)][item] += 1\n",
    "        \n",
    "        log_p_dict = {'e':0,'j':0,'s':0}\n",
    "        max_pred = None\n",
    "        max_log_p = -100000\n",
    "        for tlang in ['e','j','s']:\n",
    "            log_p = 0\n",
    "            for letter in DICT.keys():\n",
    "                log_p += mixed_test_vec[(lang,no)][letter] * np.log(lang_est[tlang][letter])\n",
    "            log_p_dict[tlang] = log_p\n",
    "            if log_p >= max_log_p:\n",
    "                max_log_p = log_p\n",
    "                max_pred = tlang\n",
    "        print(\"Current sample:\",lang,no,\" Pred:\",max_pred)\n",
    "\n"
   ]
  },
  {
   "cell_type": "code",
   "execution_count": 58,
   "metadata": {},
   "outputs": [
    {
     "name": "stdout",
     "output_type": "stream",
     "text": [
      "['n' 'h' 'n' ... 'l' 'a' 'p']\n",
      "{'a': 164, 'b': 32, 'c': 53, 'd': 57, 'e': 311, 'f': 55, 'g': 51, 'h': 140, 'i': 140, 'j': 3, 'k': 6, 'l': 85, 'm': 64, 'n': 139, 'o': 182, 'p': 53, 'q': 3, 'r': 141, 's': 186, 't': 225, 'u': 65, 'v': 31, 'w': 47, 'x': 4, 'y': 38, 'z': 2, ' ': 498}\n",
      "Language e log prob: -7841.865447060635\n",
      "Language j log prob: -8771.433079075032\n",
      "Language s log prob: -8467.282044010557\n"
     ]
    }
   ],
   "source": [
    "# Shuffle Test\n",
    "## using english 10\n",
    "\n",
    "lang_test_vec = deepcopy(DICT)\n",
    "file = root + 'languageID\\\\%s%d.txt' % ('e',10)\n",
    "doc = ''\n",
    "with open(file,'r') as f:\n",
    "    for line in f:\n",
    "        line = line.replace('\\n','')\n",
    "        if len(line) == 0:\n",
    "            continue\n",
    "        doc += line\n",
    "\n",
    "doc = list(doc)\n",
    "doc = np.random.choice(doc,size=len(doc),replace=False)\n",
    "print(doc)\n",
    "\n",
    "for item in doc:\n",
    "    if item in lang_test_vec.keys():\n",
    "        lang_test_vec[item] += 1\n",
    "\n",
    "print(lang_test_vec)\n",
    "\n",
    "for lang in ['e','j','s']:\n",
    "    log_p = 0\n",
    "    for letter in DICT.keys():\n",
    "        log_p += lang_test_vec[letter] * np.log(lang_est[lang][letter])\n",
    "    print(\"Language %s log prob:\"%lang,log_p)\n"
   ]
  },
  {
   "attachments": {},
   "cell_type": "markdown",
   "metadata": {},
   "source": [
    "## Simple Neural Network"
   ]
  },
  {
   "cell_type": "code",
   "execution_count": 59,
   "metadata": {},
   "outputs": [],
   "source": [
    "import torch\n",
    "from torch.utils.data import Dataset\n",
    "from torchvision import datasets\n",
    "import matplotlib.pyplot as plt\n",
    "from tqdm import tqdm\n",
    "\n",
    "mnist_data_train = datasets.MNIST(root='data',train=True,download=False)\n",
    "mnist_data_test = datasets.MNIST(root='data',train=False,download=False)\n"
   ]
  },
  {
   "cell_type": "code",
   "execution_count": 60,
   "metadata": {},
   "outputs": [],
   "source": [
    "from scipy.special import softmax\n",
    "def sigmoid(x):\n",
    "    return np.where(x >= -100, \n",
    "                    1 / (1 + np.exp(-x)), \n",
    "                    0)\n",
    "def d_sigmoid(z):\n",
    "    return sigmoid(z) * (1-sigmoid(z))"
   ]
  },
  {
   "cell_type": "code",
   "execution_count": 61,
   "metadata": {},
   "outputs": [],
   "source": [
    "class myNeuralNetwork:\n",
    "    # lr=1e-5, tol=1e-9, batch=128 works. but too slow\n",
    "    # lr=1e-1 seems too large for d2=200, d1=300. but trend is good! sleep! \n",
    "    def __init__(self,x,y,lr=1e-2,tol=1e-18,batchsize=128,d2=200,d1=300,tmax=500):\n",
    "        self.x = x # shape: d*n\n",
    "        self.y = y # shape: k*n\n",
    "        self.lr = lr\n",
    "        self.tol = tol\n",
    "        self.batchsize = batchsize\n",
    "        self.weight1 = np.random.randn(d1,self.x.shape[0]) # shape: d1*d\n",
    "        self.weight2 = np.random.randn(d2,d1) # shape: d2*d1\n",
    "        self.weight3 = np.random.randn(self.y.shape[0],d2) # shape: k*d2\n",
    "        self.output = np.zeros(self.y.shape) # shape: k*n\n",
    "        self.d2 = d2\n",
    "        self.d1 = d1\n",
    "        self.tmax = tmax\n",
    "        self.loss_track = []\n",
    "        self.hidden1 = np.zeros([d1,self.x.shape[1]]) # shape: d1*n\n",
    "        self.hidden2 = np.zeros([d2,self.x.shape[1]]) # shape: d2*n\n",
    "\n",
    "    def test(self,test_x,test_y):\n",
    "        self.test_output = np.zeros(test_y.shape)\n",
    "        for i in tqdm(range(test_x.shape[1])):\n",
    "            hidden1 = sigmoid(np.dot(self.weight1,test_x[:,i])) # shape: d1\n",
    "            hidden2 = sigmoid(np.dot(self.weight2,hidden1)) # shape: d2\n",
    "            single_output = softmax(np.dot(self.weight3,hidden2)) # shape: k\n",
    "            self.test_output[:,i] = single_output\n",
    "        test_loss = -np.sum(test_y * np.log(self.test_output)) / test_y.shape[1]\n",
    "        print(\"Test loss:\",test_loss)\n",
    "\n",
    "    def feedforward(self):\n",
    "        for i in range(self.x.shape[1]):\n",
    "            self.hidden1[:,i] = sigmoid(np.dot(self.weight1,self.x[:,i])) # shape: d1\n",
    "            self.hidden2[:,i] = sigmoid(np.dot(self.weight2,self.hidden1[:,i])) # shape: d2\n",
    "            self.output[:,i] = softmax(np.dot(self.weight3,self.hidden2[:,i])) # shape: k\n",
    "\n",
    "    def calloss(self):\n",
    "        self.loss = -np.sum(self.y * np.log(self.output)) / self.y.shape[1]\n",
    "\n",
    "    def backprop(self,x_index):\n",
    "        d_hidden3 = self.output[:,x_index] - self.y[:,x_index] # shape: k\n",
    "        #print(d_hidden3.shape)\n",
    "        d_weight3 = np.outer(d_hidden3, sigmoid(self.hidden2[:,x_index])) # shape: k*d2\n",
    "        #print(d_weight3.shape)\n",
    "        d_hidden2 = np.dot(d_hidden3, self.weight3) * d_sigmoid(self.hidden2[:,x_index]) # shape: d2\n",
    "        #print(d_hidden2.shape)\n",
    "        d_weight2 = np.outer(d_hidden2, sigmoid(self.hidden1[:,x_index])) # shape: d2*d1\n",
    "        #print(d_weight2.shape)\n",
    "        d_hidden1 = np.dot(d_hidden2, self.weight2) * d_sigmoid(self.hidden1[:,x_index]) # shape: d1\n",
    "        #print(d_hidden1.shape)\n",
    "        d_weight1 = np.outer(d_hidden1, sigmoid(self.x[:,x_index])) # shape: d1*d\n",
    "        #print(d_weight1.shape)\n",
    "\n",
    "        self.weight1 -= d_weight1 * self.lr / self.batchsize\n",
    "        self.weight2 -= d_weight2 * self.lr / self.batchsize\n",
    "        self.weight3 -= d_weight3 * self.lr / self.batchsize\n",
    "\n",
    "    def train(self):\n",
    "        print(\"Start training =======\")\n",
    "        past_weight1 = np.ones([self.d1,self.x.shape[0]])\n",
    "        past_weight2 = np.ones([self.d2,self.d1])\n",
    "        past_weight3 = np.ones([self.y.shape[0],self.d2])\n",
    "        t = 0\n",
    "        self.loss_track = []\n",
    "        while(np.sum((past_weight1-self.weight1)**2) + np.sum((past_weight2-self.weight2)**2) + np.sum((past_weight3-self.weight3)**2) > self.tol):\n",
    "            print(\"Epoch %d ===\" % t)\n",
    "            past_weight1 = deepcopy(self.weight1)\n",
    "            past_weight2 = deepcopy(self.weight2)\n",
    "            past_weight3 = deepcopy(self.weight3)\n",
    "            self.feedforward()\n",
    "            batch_index = np.random.choice(list(range(self.x.shape[1])),self.batchsize,replace=False)\n",
    "            for i in range(len(batch_index)):\n",
    "                self.backprop(batch_index[i])\n",
    "            self.calloss()\n",
    "            self.loss_track.append(self.loss)\n",
    "            print(\"Current loss:\",self.loss)\n",
    "            t += 1\n",
    "            if t >= self.tmax:\n",
    "                break\n",
    "        plt.figure()\n",
    "        plt.plot(self.loss_track)\n",
    "        plt.title('Learning Curve')\n",
    "        plt.show()\n",
    "        \n"
   ]
  },
  {
   "cell_type": "code",
   "execution_count": 62,
   "metadata": {},
   "outputs": [],
   "source": [
    "train_x = []\n",
    "train_y = []\n",
    "for i in range(10000):\n",
    "    img, label = mnist_data_train[i]\n",
    "    np_img = np.array(img).flatten()\n",
    "    train_x.append(np_img)\n",
    "    onehot_y = np.zeros(10)\n",
    "    onehot_y[label] = 1\n",
    "    train_y.append(onehot_y)\n",
    "train_x = (np.array(train_x) / 255 - 0.5)*2\n",
    "train_x = np.transpose(train_x)\n",
    "train_y = np.array(train_y)\n",
    "train_y = np.transpose(train_y)\n",
    "\n",
    "test_x = []\n",
    "test_y = []\n",
    "for i in range(len(mnist_data_test)):\n",
    "    img, label = mnist_data_test[i]\n",
    "    np_img = np.array(img).flatten()\n",
    "    test_x.append(np_img)\n",
    "    onehot_y = np.zeros(10)\n",
    "    onehot_y[label] = 1\n",
    "    test_y.append(onehot_y)\n",
    "test_x = (np.array(test_x) / 255 - 0.5)*2\n",
    "test_x = np.transpose(test_x)\n",
    "test_y = np.array(test_y)\n",
    "test_y = np.transpose(test_y)"
   ]
  },
  {
   "cell_type": "code",
   "execution_count": 63,
   "metadata": {},
   "outputs": [
    {
     "name": "stdout",
     "output_type": "stream",
     "text": [
      "Start training =======\n",
      "Epoch 0 ===\n"
     ]
    },
    {
     "ename": "KeyboardInterrupt",
     "evalue": "",
     "output_type": "error",
     "traceback": [
      "\u001b[1;31m---------------------------------------------------------------------------\u001b[0m",
      "\u001b[1;31mKeyboardInterrupt\u001b[0m                         Traceback (most recent call last)",
      "Cell \u001b[1;32mIn[63], line 2\u001b[0m\n\u001b[0;32m      1\u001b[0m mynet \u001b[39m=\u001b[39m myNeuralNetwork(x\u001b[39m=\u001b[39mtrain_x,y\u001b[39m=\u001b[39mtrain_y)\n\u001b[1;32m----> 2\u001b[0m mynet\u001b[39m.\u001b[39;49mtrain()\n\u001b[0;32m      3\u001b[0m mynet\u001b[39m.\u001b[39mtest(test_x,test_y)\n\u001b[0;32m      4\u001b[0m \u001b[39mprint\u001b[39m(mynet\u001b[39m.\u001b[39mtest_output[:,:\u001b[39m5\u001b[39m])\n",
      "Cell \u001b[1;32mIn[61], line 70\u001b[0m, in \u001b[0;36mmyNeuralNetwork.train\u001b[1;34m(self)\u001b[0m\n\u001b[0;32m     68\u001b[0m past_weight2 \u001b[39m=\u001b[39m deepcopy(\u001b[39mself\u001b[39m\u001b[39m.\u001b[39mweight2)\n\u001b[0;32m     69\u001b[0m past_weight3 \u001b[39m=\u001b[39m deepcopy(\u001b[39mself\u001b[39m\u001b[39m.\u001b[39mweight3)\n\u001b[1;32m---> 70\u001b[0m \u001b[39mself\u001b[39;49m\u001b[39m.\u001b[39;49mfeedforward()\n\u001b[0;32m     71\u001b[0m batch_index \u001b[39m=\u001b[39m np\u001b[39m.\u001b[39mrandom\u001b[39m.\u001b[39mchoice(\u001b[39mlist\u001b[39m(\u001b[39mrange\u001b[39m(\u001b[39mself\u001b[39m\u001b[39m.\u001b[39mx\u001b[39m.\u001b[39mshape[\u001b[39m1\u001b[39m])),\u001b[39mself\u001b[39m\u001b[39m.\u001b[39mbatchsize,replace\u001b[39m=\u001b[39m\u001b[39mFalse\u001b[39;00m)\n\u001b[0;32m     72\u001b[0m \u001b[39mfor\u001b[39;00m i \u001b[39min\u001b[39;00m \u001b[39mrange\u001b[39m(\u001b[39mlen\u001b[39m(batch_index)):\n",
      "Cell \u001b[1;32mIn[61], line 33\u001b[0m, in \u001b[0;36mmyNeuralNetwork.feedforward\u001b[1;34m(self)\u001b[0m\n\u001b[0;32m     31\u001b[0m \u001b[39mdef\u001b[39;00m \u001b[39mfeedforward\u001b[39m(\u001b[39mself\u001b[39m):\n\u001b[0;32m     32\u001b[0m     \u001b[39mfor\u001b[39;00m i \u001b[39min\u001b[39;00m \u001b[39mrange\u001b[39m(\u001b[39mself\u001b[39m\u001b[39m.\u001b[39mx\u001b[39m.\u001b[39mshape[\u001b[39m1\u001b[39m]):\n\u001b[1;32m---> 33\u001b[0m         \u001b[39mself\u001b[39m\u001b[39m.\u001b[39mhidden1[:,i] \u001b[39m=\u001b[39m sigmoid(np\u001b[39m.\u001b[39;49mdot(\u001b[39mself\u001b[39;49m\u001b[39m.\u001b[39;49mweight1,\u001b[39mself\u001b[39;49m\u001b[39m.\u001b[39;49mx[:,i])) \u001b[39m# shape: d1\u001b[39;00m\n\u001b[0;32m     34\u001b[0m         \u001b[39mself\u001b[39m\u001b[39m.\u001b[39mhidden2[:,i] \u001b[39m=\u001b[39m sigmoid(np\u001b[39m.\u001b[39mdot(\u001b[39mself\u001b[39m\u001b[39m.\u001b[39mweight2,\u001b[39mself\u001b[39m\u001b[39m.\u001b[39mhidden1[:,i])) \u001b[39m# shape: d2\u001b[39;00m\n\u001b[0;32m     35\u001b[0m         \u001b[39mself\u001b[39m\u001b[39m.\u001b[39moutput[:,i] \u001b[39m=\u001b[39m softmax(np\u001b[39m.\u001b[39mdot(\u001b[39mself\u001b[39m\u001b[39m.\u001b[39mweight3,\u001b[39mself\u001b[39m\u001b[39m.\u001b[39mhidden2[:,i]))\n",
      "File \u001b[1;32m<__array_function__ internals>:180\u001b[0m, in \u001b[0;36mdot\u001b[1;34m(*args, **kwargs)\u001b[0m\n",
      "\u001b[1;31mKeyboardInterrupt\u001b[0m: "
     ]
    }
   ],
   "source": [
    "mynet = myNeuralNetwork(x=train_x,y=train_y)\n",
    "mynet.train()\n",
    "mynet.test(test_x,test_y)\n",
    "print(mynet.test_output[:,:5])\n",
    "print(test_y[:,:5])\n"
   ]
  },
  {
   "cell_type": "code",
   "execution_count": null,
   "metadata": {},
   "outputs": [
    {
     "name": "stdout",
     "output_type": "stream",
     "text": [
      "0.3197\n",
      "0.3228\n"
     ]
    }
   ],
   "source": [
    "correct_cnt = 0\n",
    "for i in range(len(mnist_data_test)):\n",
    "    pred = mynet.test_output[:,i]\n",
    "    true = test_y[:,i]\n",
    "    pred_y = np.where(pred==max(pred))\n",
    "    true_y = np.where(true==1)\n",
    "    if pred_y == true_y:\n",
    "        correct_cnt += 1\n",
    "print(correct_cnt/len(mnist_data_test))"
   ]
  },
  {
   "attachments": {},
   "cell_type": "markdown",
   "metadata": {},
   "source": [
    "## Simple Neural Network (using PyTorch)"
   ]
  },
  {
   "cell_type": "code",
   "execution_count": 75,
   "metadata": {},
   "outputs": [
    {
     "name": "stdout",
     "output_type": "stream",
     "text": [
      "torchNeuralNetwork(\n",
      "  (layer1): Linear(in_features=784, out_features=300, bias=False)\n",
      "  (layer2): Linear(in_features=300, out_features=200, bias=False)\n",
      "  (layer3): Linear(in_features=200, out_features=10, bias=False)\n",
      ")\n"
     ]
    },
    {
     "name": "stderr",
     "output_type": "stream",
     "text": [
      "  0%|          | 0/500 [00:00<?, ?it/s]c:\\Users\\jiahu\\AppData\\Local\\Programs\\Python\\Python310\\lib\\site-packages\\torch\\nn\\functional.py:1967: UserWarning: nn.functional.sigmoid is deprecated. Use torch.sigmoid instead.\n",
      "  warnings.warn(\"nn.functional.sigmoid is deprecated. Use torch.sigmoid instead.\")\n",
      "C:\\Users\\jiahu\\AppData\\Local\\Temp\\ipykernel_4304\\2399658589.py:23: UserWarning: Implicit dimension choice for softmax has been deprecated. Change the call to include dim=X as an argument.\n",
      "  x = torch.nn.functional.softmax(self.layer3(x))\n",
      "100%|██████████| 500/500 [01:56<00:00,  4.29it/s]\n"
     ]
    }
   ],
   "source": [
    "from torch import nn\n",
    "from torch import optim\n",
    "from torch.utils.data import Dataset, DataLoader\n",
    "from torchvision.transforms import ToTensor\n",
    "\n",
    "input_dim = 784\n",
    "hidden_d1 = 300\n",
    "hidden_d2 = 200\n",
    "output_dim = 10\n",
    "\n",
    "class torchNeuralNetwork(nn.Module):\n",
    "    def __init__(self, input_dim, hidden_d1, hidden_d2, output_dim):\n",
    "        super(torchNeuralNetwork,self).__init__()\n",
    "        self.layer1 = nn.Linear(input_dim,hidden_d1,bias=False)\n",
    "        #nn.init.kaiming_uniform_(self.layer1.weight, nonlinearity='sigmoid')\n",
    "        self.layer2 = nn.Linear(hidden_d1,hidden_d2,bias=False)\n",
    "        #nn.init.kaiming_uniform_(self.layer2.weight, nonlinearity='sigmoid')\n",
    "        self.layer3 = nn.Linear(hidden_d2,output_dim,bias=False)\n",
    "\n",
    "    def forward(self,x):\n",
    "        x = torch.nn.functional.sigmoid(self.layer1(x))\n",
    "        x = torch.nn.functional.sigmoid(self.layer2(x))\n",
    "        x = torch.nn.functional.softmax(self.layer3(x))\n",
    "        return x\n",
    "\n",
    "torchnet = torchNeuralNetwork(input_dim, hidden_d1, hidden_d2, output_dim)\n",
    "for param in torchnet.parameters():\n",
    "    param.data.zero_()\n",
    "print(torchnet)\n",
    "\n",
    "loss_func = nn.CrossEntropyLoss()\n",
    "optimizer = torch.optim.SGD(torchnet.parameters(),lr=1e-2)\n",
    "\n",
    "class Data(Dataset):\n",
    "    def __init__(self,X,y):\n",
    "        self.X = torch.from_numpy(X.astype(np.float32))\n",
    "        self.y = torch.from_numpy(y.astype(np.float32))\n",
    "        self.len = self.X.shape[0]\n",
    "    \n",
    "    def __getitem__(self, index):\n",
    "        return self.X[index], self.y[index]\n",
    "\n",
    "    def __len__(self):\n",
    "        return self.len\n",
    "\n",
    "train_data = Data(np.transpose(train_x), np.transpose(train_y))\n",
    "train_dataloader = DataLoader(dataset=train_data, batch_size=128, shuffle=True)\n",
    "\n",
    "loss_track = []\n",
    "for t in tqdm(range(500)):\n",
    "    for X, y in train_dataloader:\n",
    "        optimizer.zero_grad()\n",
    "        pred = torchnet(X)\n",
    "        loss = loss_func(pred, y)\n",
    "        loss_track.append(loss.item())\n",
    "        loss.backward()\n",
    "        optimizer.step()\n",
    "\n",
    "\n"
   ]
  },
  {
   "cell_type": "code",
   "execution_count": 76,
   "metadata": {},
   "outputs": [
    {
     "data": {
      "image/png": "[encoded data removed]",
      "text/plain": [
       "<Figure size 640x480 with 1 Axes>"
      ]
     },
     "metadata": {},
     "output_type": "display_data"
    }
   ],
   "source": [
    "plt.figure()\n",
    "plt.plot(np.linspace(0,500,len(loss_track)),loss_track)\n",
    "plt.title('Learning Curve (PyTorch, zero init)')\n",
    "plt.show()"
   ]
  },
  {
   "cell_type": "code",
   "execution_count": 77,
   "metadata": {},
   "outputs": [
    {
     "name": "stderr",
     "output_type": "stream",
     "text": [
      "c:\\Users\\jiahu\\AppData\\Local\\Programs\\Python\\Python310\\lib\\site-packages\\torch\\nn\\functional.py:1967: UserWarning: nn.functional.sigmoid is deprecated. Use torch.sigmoid instead.\n",
      "  warnings.warn(\"nn.functional.sigmoid is deprecated. Use torch.sigmoid instead.\")\n",
      "C:\\Users\\jiahu\\AppData\\Local\\Temp\\ipykernel_4304\\2399658589.py:23: UserWarning: Implicit dimension choice for softmax has been deprecated. Change the call to include dim=X as an argument.\n",
      "  x = torch.nn.functional.softmax(self.layer3(x))\n"
     ]
    },
    {
     "name": "stdout",
     "output_type": "stream",
     "text": [
      "ACC: 0.1135\n"
     ]
    }
   ],
   "source": [
    "test_data = Data(np.transpose(test_x), np.transpose(test_y))\n",
    "test_dataloader = DataLoader(dataset=test_data, batch_size=10000, shuffle=True)\n",
    "\n",
    "correct_cnt = 0\n",
    "with torch.no_grad():\n",
    "    for X, y in test_dataloader:\n",
    "        outputs = torchnet(X)\n",
    "        for i in range(10000):\n",
    "            pred = outputs[i,:]\n",
    "            pred_y = np.where(pred==max(pred))\n",
    "            true_y = np.where(y[i,:]==1)\n",
    "            if pred_y == true_y:\n",
    "                correct_cnt +=1 \n",
    "\n",
    "print(\"ACC:\",correct_cnt/10000)"
   ]
  }
 ],
 "metadata": {
  "kernelspec": {
   "display_name": "Python 3",
   "language": "python",
   "name": "python3"
  },
  "language_info": {
   "codemirror_mode": {
    "name": "ipython",
    "version": 3
   },
   "file_extension": ".py",
   "mimetype": "text/x-python",
   "name": "python",
   "nbconvert_exporter": "python",
   "pygments_lexer": "ipython3",
   "version": "3.10.5"
  },
  "orig_nbformat": 4
 },
 "nbformat": 4,
 "nbformat_minor": 2
}
